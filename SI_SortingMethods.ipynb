{
 "cells": [
  {
   "cell_type": "code",
   "execution_count": null,
   "metadata": {},
   "outputs": [],
   "source": [
    "import numpy as np"
   ]
  },
  {
   "cell_type": "code",
   "execution_count": null,
   "metadata": {},
   "outputs": [],
   "source": [
    "l=[ np.random.randint(0,100) for i in range(20)]\n",
    "print(l)\n",
    "def sort1(l):\n",
    "    for i in range(len(l)):\n",
    "         for j in range(len(l)):\n",
    "            if l[i]<l[j]:\n",
    "                temp=l[i]\n",
    "                l[i]=l[j]\n",
    "                l[j]=temp\n",
    "    return l\n",
    "sort1(l)\n"
   ]
  }
 ],
 "metadata": {
  "kernelspec": {
   "display_name": "Python 3",
   "language": "python",
   "name": "python3"
  },
  "language_info": {
   "codemirror_mode": {
    "name": "ipython",
    "version": 3
   },
   "file_extension": ".py",
   "mimetype": "text/x-python",
   "name": "python",
   "nbconvert_exporter": "python",
   "pygments_lexer": "ipython3",
   "version": "3.7.1"
  }
 },
 "nbformat": 4,
 "nbformat_minor": 2
}

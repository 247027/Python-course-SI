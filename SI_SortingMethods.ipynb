{
 "cells": [
  {
   "cell_type": "code",
   "execution_count": 2,
   "metadata": {},
   "outputs": [],
   "source": [
    "import numpy as np"
   ]
  },
  {
   "cell_type": "code",
   "execution_count": 3,
   "metadata": {},
   "outputs": [
    {
     "name": "stdout",
     "output_type": "stream",
     "text": [
      "[28, 94, 78, 83, 99, 94, 23, 84, 85, 33, 52, 0, 34, 77, 58, 41, 88, 23, 53, 46]\n"
     ]
    },
    {
     "data": {
      "text/plain": [
       "[0, 23, 23, 28, 33, 34, 41, 46, 52, 53, 58, 77, 78, 83, 84, 85, 88, 94, 94, 99]"
      ]
     },
     "execution_count": 3,
     "metadata": {},
     "output_type": "execute_result"
    }
   ],
   "source": [
    "l=[ np.random.randint(0,100) for i in range(20)]\n",
    "print(l)\n",
    "def sort1(l):\n",
    "    for i in range(len(l)):\n",
    "         for j in range(len(l)):\n",
    "            if l[i]<l[j]:\n",
    "                temp=l[i]\n",
    "                l[i]=l[j]\n",
    "                l[j]=temp\n",
    "    return l\n",
    "sort1(l)\n"
   ]
  },
  {
   "cell_type": "code",
   "execution_count": 5,
   "metadata": {},
   "outputs": [
    {
     "name": "stdout",
     "output_type": "stream",
     "text": [
      "[6, 60, 98, 45, 48, 67, 35, 67, 13, 72, 91, 91, 3, 43, 12, 59, 25, 76, 42, 58]\n"
     ]
    },
    {
     "data": {
      "text/plain": [
       "[3, 6, 12, 13, 25, 35, 42, 43, 45, 48, 58, 59, 60, 67, 67, 72, 76, 91, 91, 98]"
      ]
     },
     "execution_count": 5,
     "metadata": {},
     "output_type": "execute_result"
    }
   ],
   "source": [
    "tab=[ np.random.randint(0,100) for i in range(20)]\n",
    "print(tab)\n",
    "\n",
    "def sort2(tab):\n",
    "    \n",
    "    bigger = []\n",
    "    equal = []\n",
    "    smaller = []\n",
    "    \n",
    "    if len(tab) > 1:\n",
    "        choice = tab[0]\n",
    "        \n",
    "        for element in tab:\n",
    "            if element < choice:\n",
    "                smaller.append(element)   \n",
    "            elif element == choice:\n",
    "                equal.append(element)   \n",
    "            elif element > choice:\n",
    "                bigger.append(element)\n",
    "                \n",
    "        return sort2(smaller) + equal + sort2(bigger)\n",
    "    else:\n",
    "        return tab\n",
    "    \n",
    "sort2(tab)"
   ]
  },
  {
   "cell_type": "code",
   "execution_count": null,
   "metadata": {},
   "outputs": [],
   "source": []
  }
 ],
 "metadata": {
  "kernelspec": {
   "display_name": "Python 3",
   "language": "python",
   "name": "python3"
  },
  "language_info": {
   "codemirror_mode": {
    "name": "ipython",
    "version": 3
   },
   "file_extension": ".py",
   "mimetype": "text/x-python",
   "name": "python",
   "nbconvert_exporter": "python",
   "pygments_lexer": "ipython3",
   "version": "3.7.1"
  }
 },
 "nbformat": 4,
 "nbformat_minor": 2
}

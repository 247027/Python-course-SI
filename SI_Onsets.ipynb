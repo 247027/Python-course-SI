{
 "cells": [
  {
   "cell_type": "code",
   "execution_count": 37,
   "metadata": {},
   "outputs": [],
   "source": [
    "import numpy as np\n",
    "import time "
   ]
  },
  {
   "cell_type": "code",
   "execution_count": 41,
   "metadata": {},
   "outputs": [
    {
     "name": "stdout",
     "output_type": "stream",
     "text": [
      "[8, 0, 7] 4.750000016429112e-05\n",
      "[0, 1, 4] 7.800000275892671e-06\n"
     ]
    },
    {
     "name": "stderr",
     "output_type": "stream",
     "text": [
      "C:\\Users\\mibrz\\Anaconda3\\lib\\site-packages\\ipykernel_launcher.py:4: DeprecationWarning: time.clock has been deprecated in Python 3.3 and will be removed from Python 3.8: use time.perf_counter or time.process_time instead\n",
      "  after removing the cwd from sys.path.\n",
      "C:\\Users\\mibrz\\Anaconda3\\lib\\site-packages\\ipykernel_launcher.py:17: DeprecationWarning: time.clock has been deprecated in Python 3.3 and will be removed from Python 3.8: use time.perf_counter or time.process_time instead\n"
     ]
    }
   ],
   "source": [
    "lista2=[np.random.randint(0,1000) for i in range(100)]\n",
    "lista=[9,1,1,1,0,0,0,8,10,11,14,2132323,24234524]\n",
    "def onset1(lista,x):\n",
    "    start=time.clock()\n",
    "    result=[]\n",
    "    counter=0\n",
    "    while len(result)<3:\n",
    "        if lista[counter]>x:\n",
    "            result.append(counter)\n",
    "        counter+=1\n",
    "    for i in range(len(result)):\n",
    "        for j in range(len(result)-1):\n",
    "            if lista[result[j]]<lista[result[j+1]]:\n",
    "                temp = result[j]\n",
    "                result[j] = result[j+1]\n",
    "                result[j+1] = temp\n",
    "    end=time.clock()\n",
    "    time1=end-start\n",
    "    return(print(result, time1 ))\n",
    "onset1(lista,2)\n",
    "onset1(lista2,500)\n",
    "\n"
   ]
  },
  {
   "cell_type": "code",
   "execution_count": 42,
   "metadata": {},
   "outputs": [
    {
     "name": "stdout",
     "output_type": "stream",
     "text": [
      "[9, 1, 1, 1, 0, 0, 0, 8, 10, 11, 14, 2132323, 24234524]\n",
      "[8, 0, 7] 4.399999988891068e-05\n",
      "[2, 7, 4] 6.4000000747910235e-06\n"
     ]
    },
    {
     "name": "stderr",
     "output_type": "stream",
     "text": [
      "C:\\Users\\mibrz\\Anaconda3\\lib\\site-packages\\ipykernel_launcher.py:27: DeprecationWarning: time.clock has been deprecated in Python 3.3 and will be removed from Python 3.8: use time.perf_counter or time.process_time instead\n",
      "C:\\Users\\mibrz\\Anaconda3\\lib\\site-packages\\ipykernel_launcher.py:46: DeprecationWarning: time.clock has been deprecated in Python 3.3 and will be removed from Python 3.8: use time.perf_counter or time.process_time instead\n"
     ]
    }
   ],
   "source": [
    "lista2=[np.random.randint(0,1000) for i in range(100)]\n",
    "lista=[9,1,1,1,0,0,0,8,10,11,14,2132323,24234524]\n",
    "\n",
    "def sort2(tab):\n",
    "    \n",
    "    bigger = []\n",
    "    equal = []\n",
    "    smaller = []\n",
    "    \n",
    "    if len(tab) > 1:\n",
    "        choice = tab[0]\n",
    "        \n",
    "        for element in tab:\n",
    "            if element < choice:\n",
    "                smaller.append(element)   \n",
    "            elif element == choice:\n",
    "                equal.append(element)   \n",
    "            elif element > choice:\n",
    "                bigger.append(element)\n",
    "                \n",
    "        return sort2(bigger) + equal + sort2(smaller)\n",
    "    else:\n",
    "        return tab\n",
    "\n",
    "def onset2(lista,x):\n",
    "    start=time.clock()\n",
    "    result=[]\n",
    "    counter=0\n",
    "    while len(result)<3:\n",
    "        if lista[counter]>x:\n",
    "            result.append(counter)\n",
    "        counter+=1\n",
    "        if len(result)==3:\n",
    "            bigger = []\n",
    "            equal = []\n",
    "            smaller = []\n",
    "            choice=result[0]\n",
    "            for i in range(len(result)):\n",
    "                if lista[result[i]] < lista[choice]:\n",
    "                    smaller.append(result[i])   \n",
    "                elif lista[result[i]] == lista[choice]:\n",
    "                    equal.append(result[i])   \n",
    "                elif  lista[result[i]]> lista[choice]:\n",
    "                    bigger.append(result[i])\n",
    "    end=time.clock()\n",
    "    time2=end-start\n",
    "    return print(sort2(bigger)+equal+sort2(smaller),time2)\n",
    "    \n",
    "\n",
    "\n",
    "onset2(lista,2)\n",
    "onset2(lista2,500)\n",
    "\n"
   ]
  },
  {
   "cell_type": "code",
   "execution_count": 40,
   "metadata": {},
   "outputs": [
    {
     "name": "stdout",
     "output_type": "stream",
     "text": [
      "[8, 0, 7] 6.190000021888409e-05\n",
      "time for onset1 is  0.00033639999992374214\n",
      "[8, 0, 7] 5.650000002788147e-05\n",
      "time for onset2 is 0.00023610000016560662\n",
      "Onset2 with quicksort is faster\n"
     ]
    },
    {
     "name": "stderr",
     "output_type": "stream",
     "text": [
      "C:\\Users\\mibrz\\Anaconda3\\lib\\site-packages\\ipykernel_launcher.py:3: DeprecationWarning: time.clock has been deprecated in Python 3.3 and will be removed from Python 3.8: use time.perf_counter or time.process_time instead\n",
      "  This is separate from the ipykernel package so we can avoid doing imports until\n",
      "C:\\Users\\mibrz\\Anaconda3\\lib\\site-packages\\ipykernel_launcher.py:4: DeprecationWarning: time.clock has been deprecated in Python 3.3 and will be removed from Python 3.8: use time.perf_counter or time.process_time instead\n",
      "  after removing the cwd from sys.path.\n",
      "C:\\Users\\mibrz\\Anaconda3\\lib\\site-packages\\ipykernel_launcher.py:17: DeprecationWarning: time.clock has been deprecated in Python 3.3 and will be removed from Python 3.8: use time.perf_counter or time.process_time instead\n",
      "C:\\Users\\mibrz\\Anaconda3\\lib\\site-packages\\ipykernel_launcher.py:5: DeprecationWarning: time.clock has been deprecated in Python 3.3 and will be removed from Python 3.8: use time.perf_counter or time.process_time instead\n",
      "  \"\"\"\n",
      "C:\\Users\\mibrz\\Anaconda3\\lib\\site-packages\\ipykernel_launcher.py:9: DeprecationWarning: time.clock has been deprecated in Python 3.3 and will be removed from Python 3.8: use time.perf_counter or time.process_time instead\n",
      "  if __name__ == '__main__':\n",
      "C:\\Users\\mibrz\\Anaconda3\\lib\\site-packages\\ipykernel_launcher.py:27: DeprecationWarning: time.clock has been deprecated in Python 3.3 and will be removed from Python 3.8: use time.perf_counter or time.process_time instead\n",
      "C:\\Users\\mibrz\\Anaconda3\\lib\\site-packages\\ipykernel_launcher.py:46: DeprecationWarning: time.clock has been deprecated in Python 3.3 and will be removed from Python 3.8: use time.perf_counter or time.process_time instead\n",
      "C:\\Users\\mibrz\\Anaconda3\\lib\\site-packages\\ipykernel_launcher.py:11: DeprecationWarning: time.clock has been deprecated in Python 3.3 and will be removed from Python 3.8: use time.perf_counter or time.process_time instead\n",
      "  # This is added back by InteractiveShellApp.init_path()\n"
     ]
    }
   ],
   "source": [
    "#time1 -onset1 with bubble sort \n",
    "#time2- onset2 with quicksort\n",
    "start = time.clock()\n",
    "onset1(lista,2)\n",
    "end=time.clock()\n",
    "time1=end-start\n",
    "print('time for onset1 is ', time1)\n",
    "\n",
    "start = time.clock()\n",
    "onset2(lista,2)\n",
    "end=time.clock()\n",
    "time2=end-start\n",
    "print('time for onset2 is', time2)\n",
    "\n",
    "if time1>time2:\n",
    "    print(\"Onset2 with quicksort is faster\")\n",
    "else:\n",
    "    print(\"Onset1 with bubble sort is faster\")"
   ]
  },
  {
   "cell_type": "code",
   "execution_count": 43,
   "metadata": {},
   "outputs": [
    {
     "name": "stdout",
     "output_type": "stream",
     "text": [
      "[2, 7, 4] 0.0005943999999544758\n",
      "time for onset1 is  0.0008706000003257941\n",
      "[2, 7, 4] 5.020000025979243e-05\n",
      "time for onset2 is 0.0006002000000080443\n",
      "Onset2 with quicksort is faster\n"
     ]
    },
    {
     "name": "stderr",
     "output_type": "stream",
     "text": [
      "C:\\Users\\mibrz\\Anaconda3\\lib\\site-packages\\ipykernel_launcher.py:3: DeprecationWarning: time.clock has been deprecated in Python 3.3 and will be removed from Python 3.8: use time.perf_counter or time.process_time instead\n",
      "  This is separate from the ipykernel package so we can avoid doing imports until\n",
      "C:\\Users\\mibrz\\Anaconda3\\lib\\site-packages\\ipykernel_launcher.py:4: DeprecationWarning: time.clock has been deprecated in Python 3.3 and will be removed from Python 3.8: use time.perf_counter or time.process_time instead\n",
      "  after removing the cwd from sys.path.\n",
      "C:\\Users\\mibrz\\Anaconda3\\lib\\site-packages\\ipykernel_launcher.py:17: DeprecationWarning: time.clock has been deprecated in Python 3.3 and will be removed from Python 3.8: use time.perf_counter or time.process_time instead\n",
      "C:\\Users\\mibrz\\Anaconda3\\lib\\site-packages\\ipykernel_launcher.py:5: DeprecationWarning: time.clock has been deprecated in Python 3.3 and will be removed from Python 3.8: use time.perf_counter or time.process_time instead\n",
      "  \"\"\"\n",
      "C:\\Users\\mibrz\\Anaconda3\\lib\\site-packages\\ipykernel_launcher.py:9: DeprecationWarning: time.clock has been deprecated in Python 3.3 and will be removed from Python 3.8: use time.perf_counter or time.process_time instead\n",
      "  if __name__ == '__main__':\n",
      "C:\\Users\\mibrz\\Anaconda3\\lib\\site-packages\\ipykernel_launcher.py:27: DeprecationWarning: time.clock has been deprecated in Python 3.3 and will be removed from Python 3.8: use time.perf_counter or time.process_time instead\n",
      "C:\\Users\\mibrz\\Anaconda3\\lib\\site-packages\\ipykernel_launcher.py:46: DeprecationWarning: time.clock has been deprecated in Python 3.3 and will be removed from Python 3.8: use time.perf_counter or time.process_time instead\n",
      "C:\\Users\\mibrz\\Anaconda3\\lib\\site-packages\\ipykernel_launcher.py:11: DeprecationWarning: time.clock has been deprecated in Python 3.3 and will be removed from Python 3.8: use time.perf_counter or time.process_time instead\n",
      "  # This is added back by InteractiveShellApp.init_path()\n"
     ]
    }
   ],
   "source": [
    "#time1 - bubble sort \n",
    "#time2- quicksort\n",
    "start = time.clock()\n",
    "onset1(lista2,500)\n",
    "end=time.clock()\n",
    "time1=end-start\n",
    "print('time for onset1 is ',time1)\n",
    "\n",
    "start = time.clock()\n",
    "onset2(lista2,500)\n",
    "end=time.clock()\n",
    "time2=end-start\n",
    "print('time for onset2 is' ,time2)\n",
    "\n",
    "if time1>time2:\n",
    "    print(\"Onset2 with quicksort is faster\")\n",
    "else:\n",
    "    print(\"Onset1 with bubble sort is faster\")"
   ]
  },
  {
   "cell_type": "code",
   "execution_count": null,
   "metadata": {},
   "outputs": [],
   "source": []
  }
 ],
 "metadata": {
  "kernelspec": {
   "display_name": "Python 3",
   "language": "python",
   "name": "python3"
  },
  "language_info": {
   "codemirror_mode": {
    "name": "ipython",
    "version": 3
   },
   "file_extension": ".py",
   "mimetype": "text/x-python",
   "name": "python",
   "nbconvert_exporter": "python",
   "pygments_lexer": "ipython3",
   "version": "3.7.1"
  }
 },
 "nbformat": 4,
 "nbformat_minor": 2
}

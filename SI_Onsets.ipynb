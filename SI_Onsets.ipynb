{
 "cells": [
  {
   "cell_type": "code",
   "execution_count": 1,
   "metadata": {},
   "outputs": [],
   "source": [
    "import numpy as np"
   ]
  },
  {
   "cell_type": "code",
   "execution_count": 2,
   "metadata": {},
   "outputs": [
    {
     "name": "stdout",
     "output_type": "stream",
     "text": [
      "[456, 18, 968, 237, 517, 721, 55, 237, 294, 93, 982, 420, 885, 515, 120, 15, 660, 867, 551, 952, 993, 83, 829, 879, 975, 256, 495, 379, 254, 643, 259, 530, 430, 425, 778, 406, 827, 909, 474, 121, 447, 317, 234, 490, 545, 156, 141, 190, 69, 804, 216, 350, 933, 697, 435, 645, 137, 78, 866, 374, 464, 567, 706, 218, 447, 319, 762, 161, 566, 834, 673, 122, 59, 427, 332, 786, 388, 290, 440, 703, 289, 106, 70, 607, 340, 63, 107, 696, 808, 165, 168, 199, 185, 863, 771, 395, 287, 467, 176, 964]\n",
      "[2, 5, 4]\n"
     ]
    }
   ],
   "source": [
    "lista=[np.random.randint(0,1000) for i in range(100)]\n",
    "print(lista)\n",
    "\n",
    "def onset1(lista,x):\n",
    "    \n",
    "    result=[]\n",
    "    counter=0\n",
    "    while len(result)<3:\n",
    "        if lista[counter]>x:\n",
    "            result.append(counter)\n",
    "        counter+=1\n",
    "    for i in range(len(result)):\n",
    "        for j in range(len(result)-1):\n",
    "            if lista[result[j]]<lista[result[j+1]]:\n",
    "                temp = result[j]\n",
    "                result[j] = result[j+1]\n",
    "                result[j+1] = temp\n",
    "    \n",
    "    return(print(result, ))\n",
    "onset1(lista,500)"
   ]
  },
  {
   "cell_type": "code",
   "execution_count": 3,
   "metadata": {},
   "outputs": [
    {
     "name": "stdout",
     "output_type": "stream",
     "text": [
      "[142, 601, 621, 195, 194, 276, 833, 573]\n",
      "[6, 2, 1]\n"
     ]
    }
   ],
   "source": [
    "lista=[np.random.randint(0,1000) for i in range(100)]\n",
    "print(lista)\n",
    "\n",
    "def sort2(tab):\n",
    "    \n",
    "    bigger = []\n",
    "    equal = []\n",
    "    smaller = []\n",
    "    \n",
    "    if len(tab) > 1:\n",
    "        choice = tab[0]\n",
    "        \n",
    "        for element in tab:\n",
    "            if element < choice:\n",
    "                smaller.append(element)   \n",
    "            elif element == choice:\n",
    "                equal.append(element)   \n",
    "            elif element > choice:\n",
    "                bigger.append(element)\n",
    "                \n",
    "        return sort2(bigger) + equal + sort2(smaller)\n",
    "    else:\n",
    "        return tab\n",
    "\n",
    "def onset2(lista,x):\n",
    "   \n",
    "    result=[]\n",
    "    counter=0\n",
    "    while len(result)<3:\n",
    "        if lista[counter]>x:\n",
    "            result.append(counter)\n",
    "        counter+=1\n",
    "        if len(result)==3:\n",
    "            bigger = []\n",
    "            equal = []\n",
    "            smaller = []\n",
    "            choice=result[0]\n",
    "            for i in range(len(result)):\n",
    "                if lista[result[i]] < lista[choice]:\n",
    "                    smaller.append(result[i])   \n",
    "                elif lista[result[i]] == lista[choice]:\n",
    "                    equal.append(result[i])   \n",
    "                elif  lista[result[i]]> lista[choice]:\n",
    "                    bigger.append(result[i])\n",
    " \n",
    "    return print(sort2(bigger)+equal+sort2(smaller))\n",
    "    \n",
    "\n",
    "\n",
    "onset2(lista,500)"
   ]
  },
  {
   "cell_type": "code",
   "execution_count": null,
   "metadata": {},
   "outputs": [],
   "source": []
  }
 ],
 "metadata": {
  "kernelspec": {
   "display_name": "Python 3",
   "language": "python",
   "name": "python3"
  },
  "language_info": {
   "codemirror_mode": {
    "name": "ipython",
    "version": 3
   },
   "file_extension": ".py",
   "mimetype": "text/x-python",
   "name": "python",
   "nbconvert_exporter": "python",
   "pygments_lexer": "ipython3",
   "version": "3.7.1"
  }
 },
 "nbformat": 4,
 "nbformat_minor": 2
}

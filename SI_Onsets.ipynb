{
 "cells": [
  {
   "cell_type": "code",
   "execution_count": 1,
   "metadata": {},
   "outputs": [],
   "source": [
    "import numpy as np"
   ]
  },
  {
   "cell_type": "code",
   "execution_count": null,
   "metadata": {},
   "outputs": [],
   "source": [
    "lista=[np.random.randint(0,1000) for i in range(100)]\n",
    "print(lista)\n",
    "\n",
    "def search(lista,x):\n",
    "    \n",
    "    result=[]\n",
    "    counter=0\n",
    "    while len(result)<3:\n",
    "        if lista[counter]>x:\n",
    "            result.append(counter)\n",
    "        counter+=1\n",
    "    for i in range(len(result)):\n",
    "        for j in range(len(result)-1):\n",
    "            if lista[result[j]]<lista[result[j+1]]:\n",
    "                temp = result[j]\n",
    "                result[j] = result[j+1]\n",
    "                result[j+1] = temp\n",
    "    \n",
    "    return(print(result, ))\n",
    "search(lista,500)"
   ]
  }
 ],
 "metadata": {
  "kernelspec": {
   "display_name": "Python 3",
   "language": "python",
   "name": "python3"
  },
  "language_info": {
   "codemirror_mode": {
    "name": "ipython",
    "version": 3
   },
   "file_extension": ".py",
   "mimetype": "text/x-python",
   "name": "python",
   "nbconvert_exporter": "python",
   "pygments_lexer": "ipython3",
   "version": "3.7.1"
  }
 },
 "nbformat": 4,
 "nbformat_minor": 2
}
